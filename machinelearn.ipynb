{
 "cells": [
  {
   "cell_type": "code",
   "execution_count": 1,
   "metadata": {
    "slideshow": {
     "slide_type": "subslide"
    }
   },
   "outputs": [],
   "source": [
    "import numpy as np\n",
    "import pandas as pd\n",
    "\n",
    "import warnings\n",
    "warnings.simplefilter('ignore', FutureWarning)"
   ]
  },
  {
   "cell_type": "markdown",
   "metadata": {
    "slideshow": {
     "slide_type": "subslide"
    }
   },
   "source": [
    "## Data Pre-Processing"
   ]
  },
  {
   "cell_type": "code",
   "execution_count": 13,
   "metadata": {
    "slideshow": {
     "slide_type": "fragment"
    }
   },
   "outputs": [],
   "source": [
    "country_data = pd.read_csv('resources/data_for_ML.csv')\n",
    "\n"
   ]
  },
  {
   "cell_type": "code",
   "execution_count": 14,
   "metadata": {},
   "outputs": [
    {
     "output_type": "execute_result",
     "data": {
      "text/plain": [
       "    Unnamed: 0  country_id         success  Health_Spending  Hospital_bed  \\\n",
       "0            0          13      successful         5187.419          3.84   \n",
       "1            1          14  not successful         5851.055          7.27   \n",
       "2            2          16  not successful         5427.957          5.58   \n",
       "3            3          32  not successful         5418.383          2.52   \n",
       "4            4          47  not successful         3426.039          6.62   \n",
       "5            5          55  not successful         5567.899          2.60   \n",
       "6            6         210      successful         2578.793          4.57   \n",
       "7            7          65      successful         4578.420          3.61   \n",
       "8            8          68  not successful         5375.699          5.91   \n",
       "9            9          52  not successful         6645.757          8.00   \n",
       "10          10          84      successful         2383.628          4.20   \n",
       "11          11          92  not successful         2222.426          7.01   \n",
       "12          12          96  not successful         5275.543          2.97   \n",
       "13          13         100  not successful         2932.461          2.98   \n",
       "14          14         101  not successful         3649.206          3.14   \n",
       "15          15         104      successful         4822.812         12.98   \n",
       "16          16         215      successful         1972.572          5.49   \n",
       "17          17         214      successful         2638.133          6.43   \n",
       "18          18         121  not successful         5558.322          4.26   \n",
       "19          19         146  not successful         5765.098          3.17   \n",
       "20          20         151      successful         4203.989          2.57   \n",
       "21          21         148      successful         6646.713          3.53   \n",
       "22          22         162  not successful         2292.146          6.54   \n",
       "23          23         164  not successful         3378.627          3.45   \n",
       "24          24         217  not successful         1528.777          7.12   \n",
       "25          25          48      successful         2353.645          5.70   \n",
       "26          26          74  not successful         3224.020          4.43   \n",
       "27          27          62  not successful         3616.459          2.97   \n",
       "28          28         184  not successful         5782.292          2.14   \n",
       "29          29          34  not successful         7732.412          4.63   \n",
       "30          30         198  not successful         1339.511          2.85   \n",
       "31          31          77  not successful         4653.058          2.46   \n",
       "32          32         205  not successful        11071.715          2.87   \n",
       "\n",
       "    Hospital_stay  Life_expectancy  Unemployment_rate  Obesity_rate  \\\n",
       "0             4.1             82.8          23.924577         56.40   \n",
       "1             6.3             81.8          25.132840         46.70   \n",
       "2             6.6             81.7          43.510715         52.35   \n",
       "3             7.5             82.0           8.490044         53.80   \n",
       "4             5.8             79.1          30.262627         55.40   \n",
       "5             3.5             81.0          16.613746         51.00   \n",
       "6             6.1             78.4          19.989121         50.70   \n",
       "7             6.4             81.8          18.488180         57.00   \n",
       "8             5.4             82.8          38.833127         49.00   \n",
       "9             7.5             81.0          38.133482         52.70   \n",
       "10            5.6             81.9          70.138582         55.00   \n",
       "11            5.4             76.2          32.848378         58.40   \n",
       "12            5.9             82.3          33.276282         61.00   \n",
       "13            5.0             82.9           5.712245         50.10   \n",
       "14            7.0             83.4          57.023943         46.10   \n",
       "15           16.1             84.2          32.298137         26.70   \n",
       "16            6.0             74.9          38.179585         58.70   \n",
       "17            6.5             75.8          30.630811         53.30   \n",
       "18            7.6             82.4          22.774902         53.05   \n",
       "19            5.1             81.9          31.365310         48.50   \n",
       "20            5.0             81.8          12.569316         65.10   \n",
       "21            6.0             82.8          24.134181         46.00   \n",
       "22            6.5             77.7          21.557168         53.30   \n",
       "23            9.0             81.4          42.608197         67.60   \n",
       "24            9.1             72.8          23.766047         47.70   \n",
       "25            6.7             77.4          54.958033         54.20   \n",
       "26            6.7             81.5          42.959870         55.60   \n",
       "27            6.0             83.5          37.831852         53.00   \n",
       "28            5.5             82.6          12.108472         49.90   \n",
       "29            6.9             83.8          37.817027         41.80   \n",
       "30            4.1             78.3          23.478066         64.40   \n",
       "31            5.9             81.3          25.068089         63.30   \n",
       "32            5.5             78.7          12.697884         66.20   \n",
       "\n",
       "    transporation  poverty_rate  science_score  \n",
       "0    17585.947169         0.124          503.0  \n",
       "1    13350.000000         0.094          490.0  \n",
       "2    10167.000000         0.101          499.0  \n",
       "3     1685.000000         0.121          518.0  \n",
       "4    10930.618000         0.056          497.0  \n",
       "5     6653.000000         0.058          493.0  \n",
       "6      392.000000         0.158          530.0  \n",
       "7     4924.000000         0.065          522.0  \n",
       "8   112614.000000         0.081          493.0  \n",
       "9    98161.000000         0.104          503.0  \n",
       "10    1252.000000         0.126          452.0  \n",
       "11    7751.606000         0.080          481.0  \n",
       "12    2399.000000         0.090          496.0  \n",
       "13    3579.900000         0.169          462.0  \n",
       "14   56586.000000         0.139          468.0  \n",
       "15  441614.000000         0.157          529.0  \n",
       "16     643.000000         0.166          487.0  \n",
       "17     479.000000         0.173          482.0  \n",
       "18     463.000000         0.122          477.0  \n",
       "19   22600.000000         0.083          503.0  \n",
       "20     321.000000         0.109          508.0  \n",
       "21    3715.000000         0.084          490.0  \n",
       "22   22056.000000         0.096          511.0  \n",
       "23    4964.014000         0.107          492.0  \n",
       "24  133589.000000         0.127          478.0  \n",
       "25    4093.000000         0.073          464.0  \n",
       "26     698.000000         0.085          507.0  \n",
       "27   28434.000000         0.148          483.0  \n",
       "28   14617.207234         0.089          499.0  \n",
       "29   21737.000000         0.092          495.0  \n",
       "30   14259.000000         0.172          468.0  \n",
       "31   80526.378370         0.117          505.0  \n",
       "32   32483.000000         0.178          502.0  "
      ],
      "text/html": "<div>\n<style scoped>\n    .dataframe tbody tr th:only-of-type {\n        vertical-align: middle;\n    }\n\n    .dataframe tbody tr th {\n        vertical-align: top;\n    }\n\n    .dataframe thead th {\n        text-align: right;\n    }\n</style>\n<table border=\"1\" class=\"dataframe\">\n  <thead>\n    <tr style=\"text-align: right;\">\n      <th></th>\n      <th>Unnamed: 0</th>\n      <th>country_id</th>\n      <th>success</th>\n      <th>Health_Spending</th>\n      <th>Hospital_bed</th>\n      <th>Hospital_stay</th>\n      <th>Life_expectancy</th>\n      <th>Unemployment_rate</th>\n      <th>Obesity_rate</th>\n      <th>transporation</th>\n      <th>poverty_rate</th>\n      <th>science_score</th>\n    </tr>\n  </thead>\n  <tbody>\n    <tr>\n      <th>0</th>\n      <td>0</td>\n      <td>13</td>\n      <td>successful</td>\n      <td>5187.419</td>\n      <td>3.84</td>\n      <td>4.1</td>\n      <td>82.8</td>\n      <td>23.924577</td>\n      <td>56.40</td>\n      <td>17585.947169</td>\n      <td>0.124</td>\n      <td>503.0</td>\n    </tr>\n    <tr>\n      <th>1</th>\n      <td>1</td>\n      <td>14</td>\n      <td>not successful</td>\n      <td>5851.055</td>\n      <td>7.27</td>\n      <td>6.3</td>\n      <td>81.8</td>\n      <td>25.132840</td>\n      <td>46.70</td>\n      <td>13350.000000</td>\n      <td>0.094</td>\n      <td>490.0</td>\n    </tr>\n    <tr>\n      <th>2</th>\n      <td>2</td>\n      <td>16</td>\n      <td>not successful</td>\n      <td>5427.957</td>\n      <td>5.58</td>\n      <td>6.6</td>\n      <td>81.7</td>\n      <td>43.510715</td>\n      <td>52.35</td>\n      <td>10167.000000</td>\n      <td>0.101</td>\n      <td>499.0</td>\n    </tr>\n    <tr>\n      <th>3</th>\n      <td>3</td>\n      <td>32</td>\n      <td>not successful</td>\n      <td>5418.383</td>\n      <td>2.52</td>\n      <td>7.5</td>\n      <td>82.0</td>\n      <td>8.490044</td>\n      <td>53.80</td>\n      <td>1685.000000</td>\n      <td>0.121</td>\n      <td>518.0</td>\n    </tr>\n    <tr>\n      <th>4</th>\n      <td>4</td>\n      <td>47</td>\n      <td>not successful</td>\n      <td>3426.039</td>\n      <td>6.62</td>\n      <td>5.8</td>\n      <td>79.1</td>\n      <td>30.262627</td>\n      <td>55.40</td>\n      <td>10930.618000</td>\n      <td>0.056</td>\n      <td>497.0</td>\n    </tr>\n    <tr>\n      <th>5</th>\n      <td>5</td>\n      <td>55</td>\n      <td>not successful</td>\n      <td>5567.899</td>\n      <td>2.60</td>\n      <td>3.5</td>\n      <td>81.0</td>\n      <td>16.613746</td>\n      <td>51.00</td>\n      <td>6653.000000</td>\n      <td>0.058</td>\n      <td>493.0</td>\n    </tr>\n    <tr>\n      <th>6</th>\n      <td>6</td>\n      <td>210</td>\n      <td>successful</td>\n      <td>2578.793</td>\n      <td>4.57</td>\n      <td>6.1</td>\n      <td>78.4</td>\n      <td>19.989121</td>\n      <td>50.70</td>\n      <td>392.000000</td>\n      <td>0.158</td>\n      <td>530.0</td>\n    </tr>\n    <tr>\n      <th>7</th>\n      <td>7</td>\n      <td>65</td>\n      <td>successful</td>\n      <td>4578.420</td>\n      <td>3.61</td>\n      <td>6.4</td>\n      <td>81.8</td>\n      <td>18.488180</td>\n      <td>57.00</td>\n      <td>4924.000000</td>\n      <td>0.065</td>\n      <td>522.0</td>\n    </tr>\n    <tr>\n      <th>8</th>\n      <td>8</td>\n      <td>68</td>\n      <td>not successful</td>\n      <td>5375.699</td>\n      <td>5.91</td>\n      <td>5.4</td>\n      <td>82.8</td>\n      <td>38.833127</td>\n      <td>49.00</td>\n      <td>112614.000000</td>\n      <td>0.081</td>\n      <td>493.0</td>\n    </tr>\n    <tr>\n      <th>9</th>\n      <td>9</td>\n      <td>52</td>\n      <td>not successful</td>\n      <td>6645.757</td>\n      <td>8.00</td>\n      <td>7.5</td>\n      <td>81.0</td>\n      <td>38.133482</td>\n      <td>52.70</td>\n      <td>98161.000000</td>\n      <td>0.104</td>\n      <td>503.0</td>\n    </tr>\n    <tr>\n      <th>10</th>\n      <td>10</td>\n      <td>84</td>\n      <td>successful</td>\n      <td>2383.628</td>\n      <td>4.20</td>\n      <td>5.6</td>\n      <td>81.9</td>\n      <td>70.138582</td>\n      <td>55.00</td>\n      <td>1252.000000</td>\n      <td>0.126</td>\n      <td>452.0</td>\n    </tr>\n    <tr>\n      <th>11</th>\n      <td>11</td>\n      <td>92</td>\n      <td>not successful</td>\n      <td>2222.426</td>\n      <td>7.01</td>\n      <td>5.4</td>\n      <td>76.2</td>\n      <td>32.848378</td>\n      <td>58.40</td>\n      <td>7751.606000</td>\n      <td>0.080</td>\n      <td>481.0</td>\n    </tr>\n    <tr>\n      <th>12</th>\n      <td>12</td>\n      <td>96</td>\n      <td>not successful</td>\n      <td>5275.543</td>\n      <td>2.97</td>\n      <td>5.9</td>\n      <td>82.3</td>\n      <td>33.276282</td>\n      <td>61.00</td>\n      <td>2399.000000</td>\n      <td>0.090</td>\n      <td>496.0</td>\n    </tr>\n    <tr>\n      <th>13</th>\n      <td>13</td>\n      <td>100</td>\n      <td>not successful</td>\n      <td>2932.461</td>\n      <td>2.98</td>\n      <td>5.0</td>\n      <td>82.9</td>\n      <td>5.712245</td>\n      <td>50.10</td>\n      <td>3579.900000</td>\n      <td>0.169</td>\n      <td>462.0</td>\n    </tr>\n    <tr>\n      <th>14</th>\n      <td>14</td>\n      <td>101</td>\n      <td>not successful</td>\n      <td>3649.206</td>\n      <td>3.14</td>\n      <td>7.0</td>\n      <td>83.4</td>\n      <td>57.023943</td>\n      <td>46.10</td>\n      <td>56586.000000</td>\n      <td>0.139</td>\n      <td>468.0</td>\n    </tr>\n    <tr>\n      <th>15</th>\n      <td>15</td>\n      <td>104</td>\n      <td>successful</td>\n      <td>4822.812</td>\n      <td>12.98</td>\n      <td>16.1</td>\n      <td>84.2</td>\n      <td>32.298137</td>\n      <td>26.70</td>\n      <td>441614.000000</td>\n      <td>0.157</td>\n      <td>529.0</td>\n    </tr>\n    <tr>\n      <th>16</th>\n      <td>16</td>\n      <td>215</td>\n      <td>successful</td>\n      <td>1972.572</td>\n      <td>5.49</td>\n      <td>6.0</td>\n      <td>74.9</td>\n      <td>38.179585</td>\n      <td>58.70</td>\n      <td>643.000000</td>\n      <td>0.166</td>\n      <td>487.0</td>\n    </tr>\n    <tr>\n      <th>17</th>\n      <td>17</td>\n      <td>214</td>\n      <td>successful</td>\n      <td>2638.133</td>\n      <td>6.43</td>\n      <td>6.5</td>\n      <td>75.8</td>\n      <td>30.630811</td>\n      <td>53.30</td>\n      <td>479.000000</td>\n      <td>0.173</td>\n      <td>482.0</td>\n    </tr>\n    <tr>\n      <th>18</th>\n      <td>18</td>\n      <td>121</td>\n      <td>not successful</td>\n      <td>5558.322</td>\n      <td>4.26</td>\n      <td>7.6</td>\n      <td>82.4</td>\n      <td>22.774902</td>\n      <td>53.05</td>\n      <td>463.000000</td>\n      <td>0.122</td>\n      <td>477.0</td>\n    </tr>\n    <tr>\n      <th>19</th>\n      <td>19</td>\n      <td>146</td>\n      <td>not successful</td>\n      <td>5765.098</td>\n      <td>3.17</td>\n      <td>5.1</td>\n      <td>81.9</td>\n      <td>31.365310</td>\n      <td>48.50</td>\n      <td>22600.000000</td>\n      <td>0.083</td>\n      <td>503.0</td>\n    </tr>\n    <tr>\n      <th>20</th>\n      <td>20</td>\n      <td>151</td>\n      <td>successful</td>\n      <td>4203.989</td>\n      <td>2.57</td>\n      <td>5.0</td>\n      <td>81.8</td>\n      <td>12.569316</td>\n      <td>65.10</td>\n      <td>321.000000</td>\n      <td>0.109</td>\n      <td>508.0</td>\n    </tr>\n    <tr>\n      <th>21</th>\n      <td>21</td>\n      <td>148</td>\n      <td>successful</td>\n      <td>6646.713</td>\n      <td>3.53</td>\n      <td>6.0</td>\n      <td>82.8</td>\n      <td>24.134181</td>\n      <td>46.00</td>\n      <td>3715.000000</td>\n      <td>0.084</td>\n      <td>490.0</td>\n    </tr>\n    <tr>\n      <th>22</th>\n      <td>22</td>\n      <td>162</td>\n      <td>not successful</td>\n      <td>2292.146</td>\n      <td>6.54</td>\n      <td>6.5</td>\n      <td>77.7</td>\n      <td>21.557168</td>\n      <td>53.30</td>\n      <td>22056.000000</td>\n      <td>0.096</td>\n      <td>511.0</td>\n    </tr>\n    <tr>\n      <th>23</th>\n      <td>23</td>\n      <td>164</td>\n      <td>not successful</td>\n      <td>3378.627</td>\n      <td>3.45</td>\n      <td>9.0</td>\n      <td>81.4</td>\n      <td>42.608197</td>\n      <td>67.60</td>\n      <td>4964.014000</td>\n      <td>0.107</td>\n      <td>492.0</td>\n    </tr>\n    <tr>\n      <th>24</th>\n      <td>24</td>\n      <td>217</td>\n      <td>not successful</td>\n      <td>1528.777</td>\n      <td>7.12</td>\n      <td>9.1</td>\n      <td>72.8</td>\n      <td>23.766047</td>\n      <td>47.70</td>\n      <td>133589.000000</td>\n      <td>0.127</td>\n      <td>478.0</td>\n    </tr>\n    <tr>\n      <th>25</th>\n      <td>25</td>\n      <td>48</td>\n      <td>successful</td>\n      <td>2353.645</td>\n      <td>5.70</td>\n      <td>6.7</td>\n      <td>77.4</td>\n      <td>54.958033</td>\n      <td>54.20</td>\n      <td>4093.000000</td>\n      <td>0.073</td>\n      <td>464.0</td>\n    </tr>\n    <tr>\n      <th>26</th>\n      <td>26</td>\n      <td>74</td>\n      <td>not successful</td>\n      <td>3224.020</td>\n      <td>4.43</td>\n      <td>6.7</td>\n      <td>81.5</td>\n      <td>42.959870</td>\n      <td>55.60</td>\n      <td>698.000000</td>\n      <td>0.085</td>\n      <td>507.0</td>\n    </tr>\n    <tr>\n      <th>27</th>\n      <td>27</td>\n      <td>62</td>\n      <td>not successful</td>\n      <td>3616.459</td>\n      <td>2.97</td>\n      <td>6.0</td>\n      <td>83.5</td>\n      <td>37.831852</td>\n      <td>53.00</td>\n      <td>28434.000000</td>\n      <td>0.148</td>\n      <td>483.0</td>\n    </tr>\n    <tr>\n      <th>28</th>\n      <td>28</td>\n      <td>184</td>\n      <td>not successful</td>\n      <td>5782.292</td>\n      <td>2.14</td>\n      <td>5.5</td>\n      <td>82.6</td>\n      <td>12.108472</td>\n      <td>49.90</td>\n      <td>14617.207234</td>\n      <td>0.089</td>\n      <td>499.0</td>\n    </tr>\n    <tr>\n      <th>29</th>\n      <td>29</td>\n      <td>34</td>\n      <td>not successful</td>\n      <td>7732.412</td>\n      <td>4.63</td>\n      <td>6.9</td>\n      <td>83.8</td>\n      <td>37.817027</td>\n      <td>41.80</td>\n      <td>21737.000000</td>\n      <td>0.092</td>\n      <td>495.0</td>\n    </tr>\n    <tr>\n      <th>30</th>\n      <td>30</td>\n      <td>198</td>\n      <td>not successful</td>\n      <td>1339.511</td>\n      <td>2.85</td>\n      <td>4.1</td>\n      <td>78.3</td>\n      <td>23.478066</td>\n      <td>64.40</td>\n      <td>14259.000000</td>\n      <td>0.172</td>\n      <td>468.0</td>\n    </tr>\n    <tr>\n      <th>31</th>\n      <td>31</td>\n      <td>77</td>\n      <td>not successful</td>\n      <td>4653.058</td>\n      <td>2.46</td>\n      <td>5.9</td>\n      <td>81.3</td>\n      <td>25.068089</td>\n      <td>63.30</td>\n      <td>80526.378370</td>\n      <td>0.117</td>\n      <td>505.0</td>\n    </tr>\n    <tr>\n      <th>32</th>\n      <td>32</td>\n      <td>205</td>\n      <td>not successful</td>\n      <td>11071.715</td>\n      <td>2.87</td>\n      <td>5.5</td>\n      <td>78.7</td>\n      <td>12.697884</td>\n      <td>66.20</td>\n      <td>32483.000000</td>\n      <td>0.178</td>\n      <td>502.0</td>\n    </tr>\n  </tbody>\n</table>\n</div>"
     },
     "metadata": {},
     "execution_count": 14
    }
   ],
   "source": [
    "country_data"
   ]
  },
  {
   "cell_type": "code",
   "execution_count": null,
   "metadata": {},
   "outputs": [],
   "source": []
  },
  {
   "cell_type": "code",
   "execution_count": 20,
   "metadata": {},
   "outputs": [
    {
     "output_type": "stream",
     "name": "stdout",
     "text": [
      "(33, 10) (33,)\n"
     ]
    }
   ],
   "source": [
    "X = country_data.drop([\"country_id\",\"success\"], axis=1)\n",
    "y = country_data[\"success\"]\n",
    "print(X.shape, y.shape)\n",
    "\n",
    "from sklearn.model_selection import train_test_split\n",
    "from sklearn.preprocessing import LabelEncoder, MinMaxScaler\n",
    "from tensorflow.keras.utils import to_categorical\n",
    "\n",
    "X_train, X_test, y_train, y_test = train_test_split(\n",
    "    X, y, random_state=1)\n",
    "X_scaler = MinMaxScaler().fit(X_train)\n",
    "X_train_scaled = X_scaler.transform(X_train)\n",
    "X_test_scaled = X_scaler.transform(X_test)\n",
    "\n",
    "\n",
    "# Step 1: Label-encode data set\n",
    "label_encoder = LabelEncoder()\n",
    "label_encoder.fit(y_train)\n",
    "encoded_y_train = label_encoder.transform(y_train)\n",
    "encoded_y_test = label_encoder.transform(y_test)\n",
    "\n",
    "# Step 2: Convert encoded labels to one-hot-encoding\n",
    "y_train_categorical = to_categorical(encoded_y_train)\n",
    "y_test_categorical = to_categorical(encoded_y_test)"
   ]
  },
  {
   "cell_type": "code",
   "execution_count": 29,
   "metadata": {},
   "outputs": [],
   "source": [
    "from tensorflow.keras.models import Sequential\n",
    "from tensorflow.keras.layers import Dense\n",
    "\n",
    "model = Sequential()\n",
    "model.add(Dense(units=10, activation='relu', input_dim=10))\n",
    "model.add(Dense(units=10, activation='relu'))\n",
    "model.add(Dense(units=10, activation='relu'))\n",
    "model.add(Dense(units=2, activation='softmax'))"
   ]
  },
  {
   "cell_type": "code",
   "execution_count": 30,
   "metadata": {},
   "outputs": [
    {
     "output_type": "stream",
     "name": "stdout",
     "text": [
      "Train on 24 samples\n",
      "Epoch 1/70\n",
      "24/24 - 0s - loss: 0.9409 - accuracy: 0.3333\n",
      "Epoch 2/70\n",
      "24/24 - 0s - loss: 0.9262 - accuracy: 0.3333\n",
      "Epoch 3/70\n",
      "24/24 - 0s - loss: 0.9120 - accuracy: 0.3333\n",
      "Epoch 4/70\n",
      "24/24 - 0s - loss: 0.8984 - accuracy: 0.3333\n",
      "Epoch 5/70\n",
      "24/24 - 0s - loss: 0.8854 - accuracy: 0.3333\n",
      "Epoch 6/70\n",
      "24/24 - 0s - loss: 0.8728 - accuracy: 0.3333\n",
      "Epoch 7/70\n",
      "24/24 - 0s - loss: 0.8608 - accuracy: 0.3333\n",
      "Epoch 8/70\n",
      "24/24 - 0s - loss: 0.8494 - accuracy: 0.3333\n",
      "Epoch 9/70\n",
      "24/24 - 0s - loss: 0.8393 - accuracy: 0.3333\n",
      "Epoch 10/70\n",
      "24/24 - 0s - loss: 0.8296 - accuracy: 0.3333\n",
      "Epoch 11/70\n",
      "24/24 - 0s - loss: 0.8205 - accuracy: 0.3333\n",
      "Epoch 12/70\n",
      "24/24 - 0s - loss: 0.8116 - accuracy: 0.3333\n",
      "Epoch 13/70\n",
      "24/24 - 0s - loss: 0.8027 - accuracy: 0.3333\n",
      "Epoch 14/70\n",
      "24/24 - 0s - loss: 0.7951 - accuracy: 0.3333\n",
      "Epoch 15/70\n",
      "24/24 - 0s - loss: 0.7880 - accuracy: 0.3333\n",
      "Epoch 16/70\n",
      "24/24 - 0s - loss: 0.7811 - accuracy: 0.3333\n",
      "Epoch 17/70\n",
      "24/24 - 0s - loss: 0.7750 - accuracy: 0.3333\n",
      "Epoch 18/70\n",
      "24/24 - 0s - loss: 0.7694 - accuracy: 0.3333\n",
      "Epoch 19/70\n",
      "24/24 - 0s - loss: 0.7641 - accuracy: 0.3333\n",
      "Epoch 20/70\n",
      "24/24 - 0s - loss: 0.7591 - accuracy: 0.3750\n",
      "Epoch 21/70\n",
      "24/24 - 0s - loss: 0.7540 - accuracy: 0.3750\n",
      "Epoch 22/70\n",
      "24/24 - 0s - loss: 0.7491 - accuracy: 0.3750\n",
      "Epoch 23/70\n",
      "24/24 - 0s - loss: 0.7443 - accuracy: 0.4167\n",
      "Epoch 24/70\n",
      "24/24 - 0s - loss: 0.7398 - accuracy: 0.4583\n",
      "Epoch 25/70\n",
      "24/24 - 0s - loss: 0.7358 - accuracy: 0.4583\n",
      "Epoch 26/70\n",
      "24/24 - 0s - loss: 0.7322 - accuracy: 0.4583\n",
      "Epoch 27/70\n",
      "24/24 - 0s - loss: 0.7287 - accuracy: 0.5000\n",
      "Epoch 28/70\n",
      "24/24 - 0s - loss: 0.7254 - accuracy: 0.5000\n",
      "Epoch 29/70\n",
      "24/24 - 0s - loss: 0.7222 - accuracy: 0.5417\n",
      "Epoch 30/70\n",
      "24/24 - 0s - loss: 0.7193 - accuracy: 0.5417\n",
      "Epoch 31/70\n",
      "24/24 - 0s - loss: 0.7166 - accuracy: 0.5833\n",
      "Epoch 32/70\n",
      "24/24 - 0s - loss: 0.7140 - accuracy: 0.5833\n",
      "Epoch 33/70\n",
      "24/24 - 0s - loss: 0.7114 - accuracy: 0.5833\n",
      "Epoch 34/70\n",
      "24/24 - 0s - loss: 0.7090 - accuracy: 0.5417\n",
      "Epoch 35/70\n",
      "24/24 - 0s - loss: 0.7065 - accuracy: 0.5417\n",
      "Epoch 36/70\n",
      "24/24 - 0s - loss: 0.7040 - accuracy: 0.5833\n",
      "Epoch 37/70\n",
      "24/24 - 0s - loss: 0.7016 - accuracy: 0.5833\n",
      "Epoch 38/70\n",
      "24/24 - 0s - loss: 0.6993 - accuracy: 0.5417\n",
      "Epoch 39/70\n",
      "24/24 - 0s - loss: 0.6970 - accuracy: 0.5833\n",
      "Epoch 40/70\n",
      "24/24 - 0s - loss: 0.6948 - accuracy: 0.5417\n",
      "Epoch 41/70\n",
      "24/24 - 0s - loss: 0.6926 - accuracy: 0.5417\n",
      "Epoch 42/70\n",
      "24/24 - 0s - loss: 0.6906 - accuracy: 0.5000\n",
      "Epoch 43/70\n",
      "24/24 - 0s - loss: 0.6886 - accuracy: 0.5417\n",
      "Epoch 44/70\n",
      "24/24 - 0s - loss: 0.6868 - accuracy: 0.5417\n",
      "Epoch 45/70\n",
      "24/24 - 0s - loss: 0.6851 - accuracy: 0.5833\n",
      "Epoch 46/70\n",
      "24/24 - 0s - loss: 0.6834 - accuracy: 0.5417\n",
      "Epoch 47/70\n",
      "24/24 - 0s - loss: 0.6818 - accuracy: 0.5417\n",
      "Epoch 48/70\n",
      "24/24 - 0s - loss: 0.6801 - accuracy: 0.5417\n",
      "Epoch 49/70\n",
      "24/24 - 0s - loss: 0.6786 - accuracy: 0.5833\n",
      "Epoch 50/70\n",
      "24/24 - 0s - loss: 0.6771 - accuracy: 0.5833\n",
      "Epoch 51/70\n",
      "24/24 - 0s - loss: 0.6756 - accuracy: 0.5833\n",
      "Epoch 52/70\n",
      "24/24 - 0s - loss: 0.6741 - accuracy: 0.5833\n",
      "Epoch 53/70\n",
      "24/24 - 0s - loss: 0.6726 - accuracy: 0.5833\n",
      "Epoch 54/70\n",
      "24/24 - 0s - loss: 0.6712 - accuracy: 0.5833\n",
      "Epoch 55/70\n",
      "24/24 - 0s - loss: 0.6698 - accuracy: 0.6667\n",
      "Epoch 56/70\n",
      "24/24 - 0s - loss: 0.6685 - accuracy: 0.6667\n",
      "Epoch 57/70\n",
      "24/24 - 0s - loss: 0.6671 - accuracy: 0.7083\n",
      "Epoch 58/70\n",
      "24/24 - 0s - loss: 0.6658 - accuracy: 0.7083\n",
      "Epoch 59/70\n",
      "24/24 - 0s - loss: 0.6645 - accuracy: 0.7083\n",
      "Epoch 60/70\n",
      "24/24 - 0s - loss: 0.6633 - accuracy: 0.7083\n",
      "Epoch 61/70\n",
      "24/24 - 0s - loss: 0.6620 - accuracy: 0.7083\n",
      "Epoch 62/70\n",
      "24/24 - 0s - loss: 0.6607 - accuracy: 0.7500\n",
      "Epoch 63/70\n",
      "24/24 - 0s - loss: 0.6595 - accuracy: 0.7500\n",
      "Epoch 64/70\n",
      "24/24 - 0s - loss: 0.6582 - accuracy: 0.7500\n",
      "Epoch 65/70\n",
      "24/24 - 0s - loss: 0.6569 - accuracy: 0.7500\n",
      "Epoch 66/70\n",
      "24/24 - 0s - loss: 0.6555 - accuracy: 0.7500\n",
      "Epoch 67/70\n",
      "24/24 - 0s - loss: 0.6542 - accuracy: 0.7500\n",
      "Epoch 68/70\n",
      "24/24 - 0s - loss: 0.6529 - accuracy: 0.7500\n",
      "Epoch 69/70\n",
      "24/24 - 0s - loss: 0.6516 - accuracy: 0.7500\n",
      "Epoch 70/70\n",
      "24/24 - 0s - loss: 0.6503 - accuracy: 0.7500\n"
     ]
    },
    {
     "output_type": "execute_result",
     "data": {
      "text/plain": [
       "<tensorflow.python.keras.callbacks.History at 0x19265de6ac8>"
      ]
     },
     "metadata": {},
     "execution_count": 30
    }
   ],
   "source": [
    "model.compile(optimizer='adam',\n",
    "              loss='categorical_crossentropy',\n",
    "              metrics=['accuracy'])\n",
    "model.fit(\n",
    "    X_train_scaled,\n",
    "    y_train_categorical,\n",
    "    epochs=70,\n",
    "    shuffle=True,\n",
    "    verbose=2\n",
    ")"
   ]
  },
  {
   "cell_type": "markdown",
   "metadata": {},
   "source": [
    "## Quantify our Trained Model"
   ]
  },
  {
   "cell_type": "code",
   "execution_count": 31,
   "metadata": {},
   "outputs": [
    {
     "output_type": "stream",
     "name": "stdout",
     "text": [
      "9/9 - 0s - loss: 0.6545 - accuracy: 0.7778\n",
      "Normal Neural Network - Loss: 0.6545090079307556, Accuracy: 0.7777777910232544\n"
     ]
    }
   ],
   "source": [
    "model_loss, model_accuracy = model.evaluate(\n",
    "    X_test_scaled, y_test_categorical, verbose=2)\n",
    "print(\n",
    "    f\"Normal Neural Network - Loss: {model_loss}, Accuracy: {model_accuracy}\")"
   ]
  },
  {
   "cell_type": "code",
   "execution_count": 7,
   "metadata": {},
   "outputs": [],
   "source": [
    "# Save the model\n",
    "model.save(\"country_covid.h5\")"
   ]
  },
  {
   "cell_type": "markdown",
   "metadata": {},
   "source": [
    "# Loading a Model"
   ]
  },
  {
   "cell_type": "code",
   "execution_count": 8,
   "metadata": {},
   "outputs": [],
   "source": [
    "# Load the model\n",
    "from tensorflow.keras.models import load_model\n",
    "voice_model = load_model(\"voice_model_trained.h5\")"
   ]
  },
  {
   "cell_type": "markdown",
   "metadata": {},
   "source": [
    "## Evaluating the loaded model"
   ]
  },
  {
   "cell_type": "code",
   "execution_count": 9,
   "metadata": {},
   "outputs": [
    {
     "name": "stdout",
     "output_type": "stream",
     "text": [
      "792/1 - 0s - loss: 0.0305 - accuracy: 0.9836\n",
      "Normal Neural Network - Loss: 0.04585228165178889, Accuracy: 0.9835858345031738\n"
     ]
    }
   ],
   "source": [
    "model_loss, model_accuracy = voice_model.evaluate(\n",
    "    X_test_scaled, y_test_categorical, verbose=2)\n",
    "print(\n",
    "    f\"Normal Neural Network - Loss: {model_loss}, Accuracy: {model_accuracy}\")"
   ]
  },
  {
   "cell_type": "code",
   "execution_count": null,
   "metadata": {},
   "outputs": [],
   "source": []
  }
 ],
 "metadata": {
  "kernelspec": {
   "name": "Python 3.6.12 64-bit ('PythonAdv': conda)",
   "display_name": "Python 3.6.12 64-bit ('PythonAdv': conda)",
   "metadata": {
    "interpreter": {
     "hash": "5e207685675c0c9879c7abde09da513f62a22aa6d3ae831263542bc5ffcd8f2b"
    }
   }
  },
  "language_info": {
   "codemirror_mode": {
    "name": "ipython",
    "version": 3
   },
   "file_extension": ".py",
   "mimetype": "text/x-python",
   "name": "python",
   "nbconvert_exporter": "python",
   "pygments_lexer": "ipython3",
   "version": "3.6.12-final"
  },
  "varInspector": {
   "cols": {
    "lenName": 16,
    "lenType": 16,
    "lenVar": 40
   },
   "kernels_config": {
    "python": {
     "delete_cmd_postfix": "",
     "delete_cmd_prefix": "del ",
     "library": "var_list.py",
     "varRefreshCmd": "print(var_dic_list())"
    },
    "r": {
     "delete_cmd_postfix": ") ",
     "delete_cmd_prefix": "rm(",
     "library": "var_list.r",
     "varRefreshCmd": "cat(var_dic_list()) "
    }
   },
   "types_to_exclude": [
    "module",
    "function",
    "builtin_function_or_method",
    "instance",
    "_Feature"
   ],
   "window_display": false
  }
 },
 "nbformat": 4,
 "nbformat_minor": 4
}