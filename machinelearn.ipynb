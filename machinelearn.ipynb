{
 "cells": [
  {
   "cell_type": "code",
   "execution_count": 20,
   "metadata": {
    "slideshow": {
     "slide_type": "subslide"
    }
   },
   "outputs": [],
   "source": [
    "import numpy as np\n",
    "import pandas as pd\n",
    "\n",
    "import warnings\n",
    "warnings.simplefilter('ignore', FutureWarning)"
   ]
  },
  {
   "cell_type": "markdown",
   "metadata": {
    "slideshow": {
     "slide_type": "subslide"
    }
   },
   "source": [
    "## Data Pre-Processing"
   ]
  },
  {
   "cell_type": "code",
   "execution_count": 21,
   "metadata": {
    "slideshow": {
     "slide_type": "fragment"
    }
   },
   "outputs": [],
   "source": [
    "country_data = pd.read_csv('resources/data_for_ML.csv')\n",
    "\n"
   ]
  },
  {
   "cell_type": "code",
   "execution_count": 22,
   "metadata": {},
   "outputs": [
    {
     "output_type": "execute_result",
     "data": {
      "text/plain": [
       "    country_id         success  Health_Spending  Hospital_bed  Hospital_stay  \\\n",
       "0           13      successful         5187.419          3.84            4.1   \n",
       "1           14  not successful         5851.055          7.27            6.3   \n",
       "2           16  not successful         5427.957          5.58            6.6   \n",
       "3           32  not successful         5418.383          2.52            7.5   \n",
       "4           47  not successful         3426.039          6.62            5.8   \n",
       "5           55  not successful         5567.899          2.60            3.5   \n",
       "6          210      successful         2578.793          4.57            6.1   \n",
       "7           65      successful         4578.420          3.61            6.4   \n",
       "8           68  not successful         5375.699          5.91            5.4   \n",
       "9           52  not successful         6645.757          8.00            7.5   \n",
       "10          84      successful         2383.628          4.20            5.6   \n",
       "11          92  not successful         2222.426          7.01            5.4   \n",
       "12          96  not successful         5275.543          2.97            5.9   \n",
       "13         100  not successful         2932.461          2.98            5.0   \n",
       "14         101  not successful         3649.206          3.14            7.0   \n",
       "15         104      successful         4822.812         12.98           16.1   \n",
       "16         215      successful         1972.572          5.49            6.0   \n",
       "17         214      successful         2638.133          6.43            6.5   \n",
       "18         121  not successful         5558.322          4.26            7.6   \n",
       "19         146  not successful         5765.098          3.17            5.1   \n",
       "20         151      successful         4203.989          2.57            5.0   \n",
       "21         148      successful         6646.713          3.53            6.0   \n",
       "22         162  not successful         2292.146          6.54            6.5   \n",
       "23         164  not successful         3378.627          3.45            9.0   \n",
       "24         217  not successful         1528.777          7.12            9.1   \n",
       "25          48      successful         2353.645          5.70            6.7   \n",
       "26          74  not successful         3224.020          4.43            6.7   \n",
       "27          62  not successful         3616.459          2.97            6.0   \n",
       "28         184  not successful         5782.292          2.14            5.5   \n",
       "29          34  not successful         7732.412          4.63            6.9   \n",
       "30         198  not successful         1339.511          2.85            4.1   \n",
       "31          77  not successful         4653.058          2.46            5.9   \n",
       "32         205  not successful        11071.715          2.87            5.5   \n",
       "\n",
       "    Life_expectancy  Unemployment_rate  Obesity_rate  transporation  \\\n",
       "0              82.8          23.924577         56.40   17585.947169   \n",
       "1              81.8          25.132840         46.70   13350.000000   \n",
       "2              81.7          43.510715         52.35   10167.000000   \n",
       "3              82.0           8.490044         53.80    1685.000000   \n",
       "4              79.1          30.262627         55.40   10930.618000   \n",
       "5              81.0          16.613746         51.00    6653.000000   \n",
       "6              78.4          19.989121         50.70     392.000000   \n",
       "7              81.8          18.488180         57.00    4924.000000   \n",
       "8              82.8          38.833127         49.00  112614.000000   \n",
       "9              81.0          38.133482         52.70   98161.000000   \n",
       "10             81.9          70.138582         55.00    1252.000000   \n",
       "11             76.2          32.848378         58.40    7751.606000   \n",
       "12             82.3          33.276282         61.00    2399.000000   \n",
       "13             82.9           5.712245         50.10    3579.900000   \n",
       "14             83.4          57.023943         46.10   56586.000000   \n",
       "15             84.2          32.298137         26.70  441614.000000   \n",
       "16             74.9          38.179585         58.70     643.000000   \n",
       "17             75.8          30.630811         53.30     479.000000   \n",
       "18             82.4          22.774902         53.05     463.000000   \n",
       "19             81.9          31.365310         48.50   22600.000000   \n",
       "20             81.8          12.569316         65.10     321.000000   \n",
       "21             82.8          24.134181         46.00    3715.000000   \n",
       "22             77.7          21.557168         53.30   22056.000000   \n",
       "23             81.4          42.608197         67.60    4964.014000   \n",
       "24             72.8          23.766047         47.70  133589.000000   \n",
       "25             77.4          54.958033         54.20    4093.000000   \n",
       "26             81.5          42.959870         55.60     698.000000   \n",
       "27             83.5          37.831852         53.00   28434.000000   \n",
       "28             82.6          12.108472         49.90   14617.207234   \n",
       "29             83.8          37.817027         41.80   21737.000000   \n",
       "30             78.3          23.478066         64.40   14259.000000   \n",
       "31             81.3          25.068089         63.30   80526.378370   \n",
       "32             78.7          12.697884         66.20   32483.000000   \n",
       "\n",
       "    poverty_rate  science_score  \n",
       "0           12.4          503.0  \n",
       "1            9.4          490.0  \n",
       "2           10.1          499.0  \n",
       "3           12.1          518.0  \n",
       "4            5.6          497.0  \n",
       "5            5.8          493.0  \n",
       "6           15.8          530.0  \n",
       "7            6.5          522.0  \n",
       "8            8.1          493.0  \n",
       "9           10.4          503.0  \n",
       "10          12.6          452.0  \n",
       "11           8.0          481.0  \n",
       "12           9.0          496.0  \n",
       "13          16.9          462.0  \n",
       "14          13.9          468.0  \n",
       "15          15.7          529.0  \n",
       "16          16.6          487.0  \n",
       "17          17.3          482.0  \n",
       "18          12.2          477.0  \n",
       "19           8.3          503.0  \n",
       "20          10.9          508.0  \n",
       "21           8.4          490.0  \n",
       "22           9.6          511.0  \n",
       "23          10.7          492.0  \n",
       "24          12.7          478.0  \n",
       "25           7.3          464.0  \n",
       "26           8.5          507.0  \n",
       "27          14.8          483.0  \n",
       "28           8.9          499.0  \n",
       "29           9.2          495.0  \n",
       "30          17.2          468.0  \n",
       "31          11.7          505.0  \n",
       "32          17.8          502.0  "
      ],
      "text/html": "<div>\n<style scoped>\n    .dataframe tbody tr th:only-of-type {\n        vertical-align: middle;\n    }\n\n    .dataframe tbody tr th {\n        vertical-align: top;\n    }\n\n    .dataframe thead th {\n        text-align: right;\n    }\n</style>\n<table border=\"1\" class=\"dataframe\">\n  <thead>\n    <tr style=\"text-align: right;\">\n      <th></th>\n      <th>country_id</th>\n      <th>success</th>\n      <th>Health_Spending</th>\n      <th>Hospital_bed</th>\n      <th>Hospital_stay</th>\n      <th>Life_expectancy</th>\n      <th>Unemployment_rate</th>\n      <th>Obesity_rate</th>\n      <th>transporation</th>\n      <th>poverty_rate</th>\n      <th>science_score</th>\n    </tr>\n  </thead>\n  <tbody>\n    <tr>\n      <th>0</th>\n      <td>13</td>\n      <td>successful</td>\n      <td>5187.419</td>\n      <td>3.84</td>\n      <td>4.1</td>\n      <td>82.8</td>\n      <td>23.924577</td>\n      <td>56.40</td>\n      <td>17585.947169</td>\n      <td>12.4</td>\n      <td>503.0</td>\n    </tr>\n    <tr>\n      <th>1</th>\n      <td>14</td>\n      <td>not successful</td>\n      <td>5851.055</td>\n      <td>7.27</td>\n      <td>6.3</td>\n      <td>81.8</td>\n      <td>25.132840</td>\n      <td>46.70</td>\n      <td>13350.000000</td>\n      <td>9.4</td>\n      <td>490.0</td>\n    </tr>\n    <tr>\n      <th>2</th>\n      <td>16</td>\n      <td>not successful</td>\n      <td>5427.957</td>\n      <td>5.58</td>\n      <td>6.6</td>\n      <td>81.7</td>\n      <td>43.510715</td>\n      <td>52.35</td>\n      <td>10167.000000</td>\n      <td>10.1</td>\n      <td>499.0</td>\n    </tr>\n    <tr>\n      <th>3</th>\n      <td>32</td>\n      <td>not successful</td>\n      <td>5418.383</td>\n      <td>2.52</td>\n      <td>7.5</td>\n      <td>82.0</td>\n      <td>8.490044</td>\n      <td>53.80</td>\n      <td>1685.000000</td>\n      <td>12.1</td>\n      <td>518.0</td>\n    </tr>\n    <tr>\n      <th>4</th>\n      <td>47</td>\n      <td>not successful</td>\n      <td>3426.039</td>\n      <td>6.62</td>\n      <td>5.8</td>\n      <td>79.1</td>\n      <td>30.262627</td>\n      <td>55.40</td>\n      <td>10930.618000</td>\n      <td>5.6</td>\n      <td>497.0</td>\n    </tr>\n    <tr>\n      <th>5</th>\n      <td>55</td>\n      <td>not successful</td>\n      <td>5567.899</td>\n      <td>2.60</td>\n      <td>3.5</td>\n      <td>81.0</td>\n      <td>16.613746</td>\n      <td>51.00</td>\n      <td>6653.000000</td>\n      <td>5.8</td>\n      <td>493.0</td>\n    </tr>\n    <tr>\n      <th>6</th>\n      <td>210</td>\n      <td>successful</td>\n      <td>2578.793</td>\n      <td>4.57</td>\n      <td>6.1</td>\n      <td>78.4</td>\n      <td>19.989121</td>\n      <td>50.70</td>\n      <td>392.000000</td>\n      <td>15.8</td>\n      <td>530.0</td>\n    </tr>\n    <tr>\n      <th>7</th>\n      <td>65</td>\n      <td>successful</td>\n      <td>4578.420</td>\n      <td>3.61</td>\n      <td>6.4</td>\n      <td>81.8</td>\n      <td>18.488180</td>\n      <td>57.00</td>\n      <td>4924.000000</td>\n      <td>6.5</td>\n      <td>522.0</td>\n    </tr>\n    <tr>\n      <th>8</th>\n      <td>68</td>\n      <td>not successful</td>\n      <td>5375.699</td>\n      <td>5.91</td>\n      <td>5.4</td>\n      <td>82.8</td>\n      <td>38.833127</td>\n      <td>49.00</td>\n      <td>112614.000000</td>\n      <td>8.1</td>\n      <td>493.0</td>\n    </tr>\n    <tr>\n      <th>9</th>\n      <td>52</td>\n      <td>not successful</td>\n      <td>6645.757</td>\n      <td>8.00</td>\n      <td>7.5</td>\n      <td>81.0</td>\n      <td>38.133482</td>\n      <td>52.70</td>\n      <td>98161.000000</td>\n      <td>10.4</td>\n      <td>503.0</td>\n    </tr>\n    <tr>\n      <th>10</th>\n      <td>84</td>\n      <td>successful</td>\n      <td>2383.628</td>\n      <td>4.20</td>\n      <td>5.6</td>\n      <td>81.9</td>\n      <td>70.138582</td>\n      <td>55.00</td>\n      <td>1252.000000</td>\n      <td>12.6</td>\n      <td>452.0</td>\n    </tr>\n    <tr>\n      <th>11</th>\n      <td>92</td>\n      <td>not successful</td>\n      <td>2222.426</td>\n      <td>7.01</td>\n      <td>5.4</td>\n      <td>76.2</td>\n      <td>32.848378</td>\n      <td>58.40</td>\n      <td>7751.606000</td>\n      <td>8.0</td>\n      <td>481.0</td>\n    </tr>\n    <tr>\n      <th>12</th>\n      <td>96</td>\n      <td>not successful</td>\n      <td>5275.543</td>\n      <td>2.97</td>\n      <td>5.9</td>\n      <td>82.3</td>\n      <td>33.276282</td>\n      <td>61.00</td>\n      <td>2399.000000</td>\n      <td>9.0</td>\n      <td>496.0</td>\n    </tr>\n    <tr>\n      <th>13</th>\n      <td>100</td>\n      <td>not successful</td>\n      <td>2932.461</td>\n      <td>2.98</td>\n      <td>5.0</td>\n      <td>82.9</td>\n      <td>5.712245</td>\n      <td>50.10</td>\n      <td>3579.900000</td>\n      <td>16.9</td>\n      <td>462.0</td>\n    </tr>\n    <tr>\n      <th>14</th>\n      <td>101</td>\n      <td>not successful</td>\n      <td>3649.206</td>\n      <td>3.14</td>\n      <td>7.0</td>\n      <td>83.4</td>\n      <td>57.023943</td>\n      <td>46.10</td>\n      <td>56586.000000</td>\n      <td>13.9</td>\n      <td>468.0</td>\n    </tr>\n    <tr>\n      <th>15</th>\n      <td>104</td>\n      <td>successful</td>\n      <td>4822.812</td>\n      <td>12.98</td>\n      <td>16.1</td>\n      <td>84.2</td>\n      <td>32.298137</td>\n      <td>26.70</td>\n      <td>441614.000000</td>\n      <td>15.7</td>\n      <td>529.0</td>\n    </tr>\n    <tr>\n      <th>16</th>\n      <td>215</td>\n      <td>successful</td>\n      <td>1972.572</td>\n      <td>5.49</td>\n      <td>6.0</td>\n      <td>74.9</td>\n      <td>38.179585</td>\n      <td>58.70</td>\n      <td>643.000000</td>\n      <td>16.6</td>\n      <td>487.0</td>\n    </tr>\n    <tr>\n      <th>17</th>\n      <td>214</td>\n      <td>successful</td>\n      <td>2638.133</td>\n      <td>6.43</td>\n      <td>6.5</td>\n      <td>75.8</td>\n      <td>30.630811</td>\n      <td>53.30</td>\n      <td>479.000000</td>\n      <td>17.3</td>\n      <td>482.0</td>\n    </tr>\n    <tr>\n      <th>18</th>\n      <td>121</td>\n      <td>not successful</td>\n      <td>5558.322</td>\n      <td>4.26</td>\n      <td>7.6</td>\n      <td>82.4</td>\n      <td>22.774902</td>\n      <td>53.05</td>\n      <td>463.000000</td>\n      <td>12.2</td>\n      <td>477.0</td>\n    </tr>\n    <tr>\n      <th>19</th>\n      <td>146</td>\n      <td>not successful</td>\n      <td>5765.098</td>\n      <td>3.17</td>\n      <td>5.1</td>\n      <td>81.9</td>\n      <td>31.365310</td>\n      <td>48.50</td>\n      <td>22600.000000</td>\n      <td>8.3</td>\n      <td>503.0</td>\n    </tr>\n    <tr>\n      <th>20</th>\n      <td>151</td>\n      <td>successful</td>\n      <td>4203.989</td>\n      <td>2.57</td>\n      <td>5.0</td>\n      <td>81.8</td>\n      <td>12.569316</td>\n      <td>65.10</td>\n      <td>321.000000</td>\n      <td>10.9</td>\n      <td>508.0</td>\n    </tr>\n    <tr>\n      <th>21</th>\n      <td>148</td>\n      <td>successful</td>\n      <td>6646.713</td>\n      <td>3.53</td>\n      <td>6.0</td>\n      <td>82.8</td>\n      <td>24.134181</td>\n      <td>46.00</td>\n      <td>3715.000000</td>\n      <td>8.4</td>\n      <td>490.0</td>\n    </tr>\n    <tr>\n      <th>22</th>\n      <td>162</td>\n      <td>not successful</td>\n      <td>2292.146</td>\n      <td>6.54</td>\n      <td>6.5</td>\n      <td>77.7</td>\n      <td>21.557168</td>\n      <td>53.30</td>\n      <td>22056.000000</td>\n      <td>9.6</td>\n      <td>511.0</td>\n    </tr>\n    <tr>\n      <th>23</th>\n      <td>164</td>\n      <td>not successful</td>\n      <td>3378.627</td>\n      <td>3.45</td>\n      <td>9.0</td>\n      <td>81.4</td>\n      <td>42.608197</td>\n      <td>67.60</td>\n      <td>4964.014000</td>\n      <td>10.7</td>\n      <td>492.0</td>\n    </tr>\n    <tr>\n      <th>24</th>\n      <td>217</td>\n      <td>not successful</td>\n      <td>1528.777</td>\n      <td>7.12</td>\n      <td>9.1</td>\n      <td>72.8</td>\n      <td>23.766047</td>\n      <td>47.70</td>\n      <td>133589.000000</td>\n      <td>12.7</td>\n      <td>478.0</td>\n    </tr>\n    <tr>\n      <th>25</th>\n      <td>48</td>\n      <td>successful</td>\n      <td>2353.645</td>\n      <td>5.70</td>\n      <td>6.7</td>\n      <td>77.4</td>\n      <td>54.958033</td>\n      <td>54.20</td>\n      <td>4093.000000</td>\n      <td>7.3</td>\n      <td>464.0</td>\n    </tr>\n    <tr>\n      <th>26</th>\n      <td>74</td>\n      <td>not successful</td>\n      <td>3224.020</td>\n      <td>4.43</td>\n      <td>6.7</td>\n      <td>81.5</td>\n      <td>42.959870</td>\n      <td>55.60</td>\n      <td>698.000000</td>\n      <td>8.5</td>\n      <td>507.0</td>\n    </tr>\n    <tr>\n      <th>27</th>\n      <td>62</td>\n      <td>not successful</td>\n      <td>3616.459</td>\n      <td>2.97</td>\n      <td>6.0</td>\n      <td>83.5</td>\n      <td>37.831852</td>\n      <td>53.00</td>\n      <td>28434.000000</td>\n      <td>14.8</td>\n      <td>483.0</td>\n    </tr>\n    <tr>\n      <th>28</th>\n      <td>184</td>\n      <td>not successful</td>\n      <td>5782.292</td>\n      <td>2.14</td>\n      <td>5.5</td>\n      <td>82.6</td>\n      <td>12.108472</td>\n      <td>49.90</td>\n      <td>14617.207234</td>\n      <td>8.9</td>\n      <td>499.0</td>\n    </tr>\n    <tr>\n      <th>29</th>\n      <td>34</td>\n      <td>not successful</td>\n      <td>7732.412</td>\n      <td>4.63</td>\n      <td>6.9</td>\n      <td>83.8</td>\n      <td>37.817027</td>\n      <td>41.80</td>\n      <td>21737.000000</td>\n      <td>9.2</td>\n      <td>495.0</td>\n    </tr>\n    <tr>\n      <th>30</th>\n      <td>198</td>\n      <td>not successful</td>\n      <td>1339.511</td>\n      <td>2.85</td>\n      <td>4.1</td>\n      <td>78.3</td>\n      <td>23.478066</td>\n      <td>64.40</td>\n      <td>14259.000000</td>\n      <td>17.2</td>\n      <td>468.0</td>\n    </tr>\n    <tr>\n      <th>31</th>\n      <td>77</td>\n      <td>not successful</td>\n      <td>4653.058</td>\n      <td>2.46</td>\n      <td>5.9</td>\n      <td>81.3</td>\n      <td>25.068089</td>\n      <td>63.30</td>\n      <td>80526.378370</td>\n      <td>11.7</td>\n      <td>505.0</td>\n    </tr>\n    <tr>\n      <th>32</th>\n      <td>205</td>\n      <td>not successful</td>\n      <td>11071.715</td>\n      <td>2.87</td>\n      <td>5.5</td>\n      <td>78.7</td>\n      <td>12.697884</td>\n      <td>66.20</td>\n      <td>32483.000000</td>\n      <td>17.8</td>\n      <td>502.0</td>\n    </tr>\n  </tbody>\n</table>\n</div>"
     },
     "metadata": {},
     "execution_count": 22
    }
   ],
   "source": [
    "country_data = country_data.drop([\"Unnamed: 0\"],axis=1)\n",
    "\n",
    "country_data"
   ]
  },
  {
   "cell_type": "code",
   "execution_count": 23,
   "metadata": {},
   "outputs": [
    {
     "output_type": "stream",
     "name": "stdout",
     "text": [
      "(33, 9) (33,)\n"
     ]
    }
   ],
   "source": [
    "X = country_data.drop([\"country_id\",\"success\"], axis=1)\n",
    "y = country_data[\"success\"]\n",
    "print(X.shape, y.shape)\n",
    "\n",
    "from sklearn.model_selection import train_test_split\n",
    "from sklearn.preprocessing import LabelEncoder, MinMaxScaler\n",
    "from tensorflow.keras.utils import to_categorical\n",
    "\n",
    "X_train, X_test, y_train, y_test = train_test_split(\n",
    "    X, y, random_state=1)\n",
    "X_scaler = MinMaxScaler().fit(X_train)\n",
    "X_train_scaled = X_scaler.transform(X_train)\n",
    "X_test_scaled = X_scaler.transform(X_test)\n",
    "\n",
    "\n",
    "# Step 1: Label-encode data set\n",
    "label_encoder = LabelEncoder()\n",
    "label_encoder.fit(y_train)\n",
    "encoded_y_train = label_encoder.transform(y_train)\n",
    "encoded_y_test = label_encoder.transform(y_test)\n",
    "\n",
    "# Step 2: Convert encoded labels to one-hot-encoding\n",
    "y_train_categorical = to_categorical(encoded_y_train)\n",
    "y_test_categorical = to_categorical(encoded_y_test)"
   ]
  },
  {
   "cell_type": "code",
   "execution_count": 24,
   "metadata": {},
   "outputs": [],
   "source": [
    "from tensorflow.keras.models import Sequential\n",
    "from tensorflow.keras.layers import Dense\n",
    "\n",
    "model = Sequential()\n",
    "model.add(Dense(units=9, activation='relu', input_dim=9))\n",
    "model.add(Dense(units=9, activation='relu'))\n",
    "model.add(Dense(units=9, activation='relu'))\n",
    "model.add(Dense(units=2, activation='softmax'))"
   ]
  },
  {
   "cell_type": "code",
   "execution_count": 25,
   "metadata": {},
   "outputs": [
    {
     "output_type": "stream",
     "name": "stdout",
     "text": [
      "Train on 24 samples\n",
      "Epoch 1/70\n",
      "24/24 - 0s - loss: 0.7018 - accuracy: 0.2917\n",
      "Epoch 2/70\n",
      "24/24 - 0s - loss: 0.7002 - accuracy: 0.2917\n",
      "Epoch 3/70\n",
      "24/24 - 0s - loss: 0.6986 - accuracy: 0.3333\n",
      "Epoch 4/70\n",
      "24/24 - 0s - loss: 0.6972 - accuracy: 0.3750\n",
      "Epoch 5/70\n",
      "24/24 - 0s - loss: 0.6958 - accuracy: 0.4583\n",
      "Epoch 6/70\n",
      "24/24 - 0s - loss: 0.6945 - accuracy: 0.6667\n",
      "Epoch 7/70\n",
      "24/24 - 0s - loss: 0.6931 - accuracy: 0.6667\n",
      "Epoch 8/70\n",
      "24/24 - 0s - loss: 0.6916 - accuracy: 0.6250\n",
      "Epoch 9/70\n",
      "24/24 - 0s - loss: 0.6904 - accuracy: 0.6250\n",
      "Epoch 10/70\n",
      "24/24 - 0s - loss: 0.6893 - accuracy: 0.6250\n",
      "Epoch 11/70\n",
      "24/24 - 0s - loss: 0.6881 - accuracy: 0.6250\n",
      "Epoch 12/70\n",
      "24/24 - 0s - loss: 0.6870 - accuracy: 0.6250\n",
      "Epoch 13/70\n",
      "24/24 - 0s - loss: 0.6860 - accuracy: 0.6250\n",
      "Epoch 14/70\n",
      "24/24 - 0s - loss: 0.6850 - accuracy: 0.6250\n",
      "Epoch 15/70\n",
      "24/24 - 0s - loss: 0.6840 - accuracy: 0.6250\n",
      "Epoch 16/70\n",
      "24/24 - 0s - loss: 0.6830 - accuracy: 0.7083\n",
      "Epoch 17/70\n",
      "24/24 - 0s - loss: 0.6821 - accuracy: 0.7083\n",
      "Epoch 18/70\n",
      "24/24 - 0s - loss: 0.6812 - accuracy: 0.6667\n",
      "Epoch 19/70\n",
      "24/24 - 0s - loss: 0.6802 - accuracy: 0.6667\n",
      "Epoch 20/70\n",
      "24/24 - 0s - loss: 0.6793 - accuracy: 0.6667\n",
      "Epoch 21/70\n",
      "24/24 - 0s - loss: 0.6784 - accuracy: 0.6667\n",
      "Epoch 22/70\n",
      "24/24 - 0s - loss: 0.6774 - accuracy: 0.6667\n",
      "Epoch 23/70\n",
      "24/24 - 0s - loss: 0.6765 - accuracy: 0.6667\n",
      "Epoch 24/70\n",
      "24/24 - 0s - loss: 0.6755 - accuracy: 0.6667\n",
      "Epoch 25/70\n",
      "24/24 - 0s - loss: 0.6746 - accuracy: 0.6667\n",
      "Epoch 26/70\n",
      "24/24 - 0s - loss: 0.6737 - accuracy: 0.6667\n",
      "Epoch 27/70\n",
      "24/24 - 0s - loss: 0.6727 - accuracy: 0.6667\n",
      "Epoch 28/70\n",
      "24/24 - 0s - loss: 0.6717 - accuracy: 0.6667\n",
      "Epoch 29/70\n",
      "24/24 - 0s - loss: 0.6708 - accuracy: 0.6667\n",
      "Epoch 30/70\n",
      "24/24 - 0s - loss: 0.6699 - accuracy: 0.6667\n",
      "Epoch 31/70\n",
      "24/24 - 0s - loss: 0.6690 - accuracy: 0.6667\n",
      "Epoch 32/70\n",
      "24/24 - 0s - loss: 0.6680 - accuracy: 0.6667\n",
      "Epoch 33/70\n",
      "24/24 - 0s - loss: 0.6671 - accuracy: 0.6667\n",
      "Epoch 34/70\n",
      "24/24 - 0s - loss: 0.6662 - accuracy: 0.6667\n",
      "Epoch 35/70\n",
      "24/24 - 0s - loss: 0.6653 - accuracy: 0.6667\n",
      "Epoch 36/70\n",
      "24/24 - 0s - loss: 0.6644 - accuracy: 0.6667\n",
      "Epoch 37/70\n",
      "24/24 - 0s - loss: 0.6635 - accuracy: 0.6667\n",
      "Epoch 38/70\n",
      "24/24 - 0s - loss: 0.6625 - accuracy: 0.6667\n",
      "Epoch 39/70\n",
      "24/24 - 0s - loss: 0.6616 - accuracy: 0.6667\n",
      "Epoch 40/70\n",
      "24/24 - 0s - loss: 0.6607 - accuracy: 0.6667\n",
      "Epoch 41/70\n",
      "24/24 - 0s - loss: 0.6598 - accuracy: 0.6667\n",
      "Epoch 42/70\n",
      "24/24 - 0s - loss: 0.6588 - accuracy: 0.6667\n",
      "Epoch 43/70\n",
      "24/24 - 0s - loss: 0.6579 - accuracy: 0.6667\n",
      "Epoch 44/70\n",
      "24/24 - 0s - loss: 0.6569 - accuracy: 0.6667\n",
      "Epoch 45/70\n",
      "24/24 - 0s - loss: 0.6559 - accuracy: 0.6667\n",
      "Epoch 46/70\n",
      "24/24 - 0s - loss: 0.6550 - accuracy: 0.6667\n",
      "Epoch 47/70\n",
      "24/24 - 0s - loss: 0.6540 - accuracy: 0.6667\n",
      "Epoch 48/70\n",
      "24/24 - 0s - loss: 0.6531 - accuracy: 0.6667\n",
      "Epoch 49/70\n",
      "24/24 - 0s - loss: 0.6521 - accuracy: 0.6667\n",
      "Epoch 50/70\n",
      "24/24 - 0s - loss: 0.6511 - accuracy: 0.6667\n",
      "Epoch 51/70\n",
      "24/24 - 0s - loss: 0.6502 - accuracy: 0.6667\n",
      "Epoch 52/70\n",
      "24/24 - 0s - loss: 0.6492 - accuracy: 0.6667\n",
      "Epoch 53/70\n",
      "24/24 - 0s - loss: 0.6483 - accuracy: 0.6667\n",
      "Epoch 54/70\n",
      "24/24 - 0s - loss: 0.6473 - accuracy: 0.6667\n",
      "Epoch 55/70\n",
      "24/24 - 0s - loss: 0.6463 - accuracy: 0.6667\n",
      "Epoch 56/70\n",
      "24/24 - 0s - loss: 0.6454 - accuracy: 0.6667\n",
      "Epoch 57/70\n",
      "24/24 - 0s - loss: 0.6444 - accuracy: 0.6667\n",
      "Epoch 58/70\n",
      "24/24 - 0s - loss: 0.6434 - accuracy: 0.6667\n",
      "Epoch 59/70\n",
      "24/24 - 0s - loss: 0.6424 - accuracy: 0.6667\n",
      "Epoch 60/70\n",
      "24/24 - 0s - loss: 0.6414 - accuracy: 0.6667\n",
      "Epoch 61/70\n",
      "24/24 - 0s - loss: 0.6405 - accuracy: 0.6667\n",
      "Epoch 62/70\n",
      "24/24 - 0s - loss: 0.6395 - accuracy: 0.6667\n",
      "Epoch 63/70\n",
      "24/24 - 0s - loss: 0.6385 - accuracy: 0.6667\n",
      "Epoch 64/70\n",
      "24/24 - 0s - loss: 0.6375 - accuracy: 0.6667\n",
      "Epoch 65/70\n",
      "24/24 - 0s - loss: 0.6365 - accuracy: 0.6667\n",
      "Epoch 66/70\n",
      "24/24 - 0s - loss: 0.6355 - accuracy: 0.6667\n",
      "Epoch 67/70\n",
      "24/24 - 0s - loss: 0.6345 - accuracy: 0.6667\n",
      "Epoch 68/70\n",
      "24/24 - 0s - loss: 0.6335 - accuracy: 0.6667\n",
      "Epoch 69/70\n",
      "24/24 - 0s - loss: 0.6325 - accuracy: 0.6667\n",
      "Epoch 70/70\n",
      "24/24 - 0s - loss: 0.6315 - accuracy: 0.6667\n"
     ]
    },
    {
     "output_type": "execute_result",
     "data": {
      "text/plain": [
       "<tensorflow.python.keras.callbacks.History at 0x1d19b67d0b8>"
      ]
     },
     "metadata": {},
     "execution_count": 25
    }
   ],
   "source": [
    "model.compile(optimizer='adam',\n",
    "              loss='categorical_crossentropy',\n",
    "              metrics=['accuracy'])\n",
    "model.fit(\n",
    "    X_train_scaled,\n",
    "    y_train_categorical,\n",
    "    epochs=70,\n",
    "    shuffle=True,\n",
    "    verbose=2\n",
    ")"
   ]
  },
  {
   "cell_type": "markdown",
   "metadata": {},
   "source": [
    "## Quantify our Trained Model"
   ]
  },
  {
   "cell_type": "code",
   "execution_count": 26,
   "metadata": {},
   "outputs": [
    {
     "output_type": "stream",
     "name": "stdout",
     "text": [
      "9/9 - 0s - loss: 0.5882 - accuracy: 0.7778\n",
      "Normal Neural Network - Loss: 0.5881766080856323, Accuracy: 0.7777777910232544\n"
     ]
    }
   ],
   "source": [
    "model_loss, model_accuracy = model.evaluate(\n",
    "    X_test_scaled, y_test_categorical, verbose=2)\n",
    "print(\n",
    "    f\"Normal Neural Network - Loss: {model_loss}, Accuracy: {model_accuracy}\")"
   ]
  },
  {
   "cell_type": "code",
   "execution_count": 27,
   "metadata": {},
   "outputs": [],
   "source": [
    "# Save the model\n",
    "model_json_str = model.to_json()\n",
    "open(\"covid_model.json\",\"w\").write(model_json_str)\n",
    "model.save_weights(\"covid_weights.h5\")"
   ]
  },
  {
   "cell_type": "code",
   "execution_count": 32,
   "metadata": {},
   "outputs": [],
   "source": [
    "from tensorflow.keras.models import model_from_json\n",
    "\n",
    "model = model_from_json(open('covid_model.json', 'r').read())\n",
    "model.load_weights('covid_weights.h5')\n",
    "output = model.predict_classes(np.array([[10000,20,20,90,0,0,9000,10,550]]),batch_size=1)[0]"
   ]
  },
  {
   "cell_type": "code",
   "execution_count": 33,
   "metadata": {},
   "outputs": [
    {
     "output_type": "execute_result",
     "data": {
      "text/plain": [
       "1"
      ]
     },
     "metadata": {},
     "execution_count": 33
    }
   ],
   "source": [
    "output"
   ]
  },
  {
   "cell_type": "code",
   "execution_count": null,
   "metadata": {},
   "outputs": [],
   "source": []
  }
 ],
 "metadata": {
  "kernelspec": {
   "name": "python3",
   "display_name": "Python 3.6.12 64-bit ('PythonAdv': conda)",
   "metadata": {
    "interpreter": {
     "hash": "5e207685675c0c9879c7abde09da513f62a22aa6d3ae831263542bc5ffcd8f2b"
    }
   }
  },
  "language_info": {
   "codemirror_mode": {
    "name": "ipython",
    "version": 3
   },
   "file_extension": ".py",
   "mimetype": "text/x-python",
   "name": "python",
   "nbconvert_exporter": "python",
   "pygments_lexer": "ipython3",
   "version": "3.6.12-final"
  },
  "varInspector": {
   "cols": {
    "lenName": 16,
    "lenType": 16,
    "lenVar": 40
   },
   "kernels_config": {
    "python": {
     "delete_cmd_postfix": "",
     "delete_cmd_prefix": "del ",
     "library": "var_list.py",
     "varRefreshCmd": "print(var_dic_list())"
    },
    "r": {
     "delete_cmd_postfix": ") ",
     "delete_cmd_prefix": "rm(",
     "library": "var_list.r",
     "varRefreshCmd": "cat(var_dic_list()) "
    }
   },
   "types_to_exclude": [
    "module",
    "function",
    "builtin_function_or_method",
    "instance",
    "_Feature"
   ],
   "window_display": false
  }
 },
 "nbformat": 4,
 "nbformat_minor": 4
}